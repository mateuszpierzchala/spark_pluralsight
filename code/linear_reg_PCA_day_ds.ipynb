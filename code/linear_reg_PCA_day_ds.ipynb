{
 "cells": [
  {
   "cell_type": "markdown",
   "metadata": {},
   "source": [
    "# Efekt redukcji wymiarów macierzy z PCA\n",
    "\n",
    "## Eksperyment na danych z datasetu \"day\" zawierającego dane na temat wypożyczeń rowerów zawierające dane o pogodzie, czy dany dzień był 'pracujący itd.\n",
    "\n",
    "### Uruchomienie sesji sparka i wczytanie danych z pliku .csv\n"
   ]
  },
  {
   "cell_type": "code",
   "execution_count": 1,
   "metadata": {},
   "outputs": [],
   "source": [
    "\n",
    "from pyspark.sql import SparkSession\n",
    "\n",
    "spark = SparkSession\\\n",
    "        .builder\\\n",
    "        .appName('Efekt redukcji wymiarów na wrtość predykcji')\\\n",
    "        .getOrCreate()\n",
    "\n",
    "rawData = spark.read.format('csv').\\\n",
    "option('header','true').\\\n",
    "load('../datasets/day.csv')"
   ]
  },
  {
   "cell_type": "code",
   "execution_count": 2,
   "metadata": {},
   "outputs": [
    {
     "data": {
      "text/html": [
       "<div>\n",
       "<style scoped>\n",
       "    .dataframe tbody tr th:only-of-type {\n",
       "        vertical-align: middle;\n",
       "    }\n",
       "\n",
       "    .dataframe tbody tr th {\n",
       "        vertical-align: top;\n",
       "    }\n",
       "\n",
       "    .dataframe thead th {\n",
       "        text-align: right;\n",
       "    }\n",
       "</style>\n",
       "<table border=\"1\" class=\"dataframe\">\n",
       "  <thead>\n",
       "    <tr style=\"text-align: right;\">\n",
       "      <th></th>\n",
       "      <th>instant</th>\n",
       "      <th>dteday</th>\n",
       "      <th>season</th>\n",
       "      <th>yr</th>\n",
       "      <th>mnth</th>\n",
       "      <th>holiday</th>\n",
       "      <th>weekday</th>\n",
       "      <th>workingday</th>\n",
       "      <th>weathersit</th>\n",
       "      <th>temp</th>\n",
       "      <th>atemp</th>\n",
       "      <th>hum</th>\n",
       "      <th>windspeed</th>\n",
       "      <th>casual</th>\n",
       "      <th>registered</th>\n",
       "      <th>cnt</th>\n",
       "    </tr>\n",
       "  </thead>\n",
       "  <tbody>\n",
       "    <tr>\n",
       "      <th>0</th>\n",
       "      <td>1</td>\n",
       "      <td>2011-01-01</td>\n",
       "      <td>1</td>\n",
       "      <td>0</td>\n",
       "      <td>1</td>\n",
       "      <td>0</td>\n",
       "      <td>6</td>\n",
       "      <td>0</td>\n",
       "      <td>2</td>\n",
       "      <td>0.344167</td>\n",
       "      <td>0.363625</td>\n",
       "      <td>0.805833</td>\n",
       "      <td>0.160446</td>\n",
       "      <td>331</td>\n",
       "      <td>654</td>\n",
       "      <td>985</td>\n",
       "    </tr>\n",
       "    <tr>\n",
       "      <th>1</th>\n",
       "      <td>2</td>\n",
       "      <td>2011-01-02</td>\n",
       "      <td>1</td>\n",
       "      <td>0</td>\n",
       "      <td>1</td>\n",
       "      <td>0</td>\n",
       "      <td>0</td>\n",
       "      <td>0</td>\n",
       "      <td>2</td>\n",
       "      <td>0.363478</td>\n",
       "      <td>0.353739</td>\n",
       "      <td>0.696087</td>\n",
       "      <td>0.248539</td>\n",
       "      <td>131</td>\n",
       "      <td>670</td>\n",
       "      <td>801</td>\n",
       "    </tr>\n",
       "    <tr>\n",
       "      <th>2</th>\n",
       "      <td>3</td>\n",
       "      <td>2011-01-03</td>\n",
       "      <td>1</td>\n",
       "      <td>0</td>\n",
       "      <td>1</td>\n",
       "      <td>0</td>\n",
       "      <td>1</td>\n",
       "      <td>1</td>\n",
       "      <td>1</td>\n",
       "      <td>0.196364</td>\n",
       "      <td>0.189405</td>\n",
       "      <td>0.437273</td>\n",
       "      <td>0.248309</td>\n",
       "      <td>120</td>\n",
       "      <td>1229</td>\n",
       "      <td>1349</td>\n",
       "    </tr>\n",
       "    <tr>\n",
       "      <th>3</th>\n",
       "      <td>4</td>\n",
       "      <td>2011-01-04</td>\n",
       "      <td>1</td>\n",
       "      <td>0</td>\n",
       "      <td>1</td>\n",
       "      <td>0</td>\n",
       "      <td>2</td>\n",
       "      <td>1</td>\n",
       "      <td>1</td>\n",
       "      <td>0.2</td>\n",
       "      <td>0.212122</td>\n",
       "      <td>0.590435</td>\n",
       "      <td>0.160296</td>\n",
       "      <td>108</td>\n",
       "      <td>1454</td>\n",
       "      <td>1562</td>\n",
       "    </tr>\n",
       "    <tr>\n",
       "      <th>4</th>\n",
       "      <td>5</td>\n",
       "      <td>2011-01-05</td>\n",
       "      <td>1</td>\n",
       "      <td>0</td>\n",
       "      <td>1</td>\n",
       "      <td>0</td>\n",
       "      <td>3</td>\n",
       "      <td>1</td>\n",
       "      <td>1</td>\n",
       "      <td>0.226957</td>\n",
       "      <td>0.22927</td>\n",
       "      <td>0.436957</td>\n",
       "      <td>0.1869</td>\n",
       "      <td>82</td>\n",
       "      <td>1518</td>\n",
       "      <td>1600</td>\n",
       "    </tr>\n",
       "  </tbody>\n",
       "</table>\n",
       "</div>"
      ],
      "text/plain": [
       "  instant      dteday season yr mnth holiday weekday workingday weathersit  \\\n",
       "0       1  2011-01-01      1  0    1       0       6          0          2   \n",
       "1       2  2011-01-02      1  0    1       0       0          0          2   \n",
       "2       3  2011-01-03      1  0    1       0       1          1          1   \n",
       "3       4  2011-01-04      1  0    1       0       2          1          1   \n",
       "4       5  2011-01-05      1  0    1       0       3          1          1   \n",
       "\n",
       "       temp     atemp       hum windspeed casual registered   cnt  \n",
       "0  0.344167  0.363625  0.805833  0.160446    331        654   985  \n",
       "1  0.363478  0.353739  0.696087  0.248539    131        670   801  \n",
       "2  0.196364  0.189405  0.437273  0.248309    120       1229  1349  \n",
       "3       0.2  0.212122  0.590435  0.160296    108       1454  1562  \n",
       "4  0.226957   0.22927  0.436957    0.1869     82       1518  1600  "
      ]
     },
     "execution_count": 2,
     "metadata": {},
     "output_type": "execute_result"
    }
   ],
   "source": [
    "rawData.toPandas().head()"
   ]
  },
  {
   "cell_type": "markdown",
   "metadata": {},
   "source": [
    "### Rzutowanie danych na typ float"
   ]
  },
  {
   "cell_type": "code",
   "execution_count": 3,
   "metadata": {},
   "outputs": [
    {
     "data": {
      "text/html": [
       "<div>\n",
       "<style scoped>\n",
       "    .dataframe tbody tr th:only-of-type {\n",
       "        vertical-align: middle;\n",
       "    }\n",
       "\n",
       "    .dataframe tbody tr th {\n",
       "        vertical-align: top;\n",
       "    }\n",
       "\n",
       "    .dataframe thead th {\n",
       "        text-align: right;\n",
       "    }\n",
       "</style>\n",
       "<table border=\"1\" class=\"dataframe\">\n",
       "  <thead>\n",
       "    <tr style=\"text-align: right;\">\n",
       "      <th></th>\n",
       "      <th>season</th>\n",
       "      <th>yr</th>\n",
       "      <th>mnth</th>\n",
       "      <th>holiday</th>\n",
       "      <th>weekday</th>\n",
       "      <th>workingday</th>\n",
       "      <th>weathersit</th>\n",
       "      <th>temp</th>\n",
       "      <th>atemp</th>\n",
       "      <th>hum</th>\n",
       "      <th>windspeed</th>\n",
       "      <th>cnt</th>\n",
       "    </tr>\n",
       "  </thead>\n",
       "  <tbody>\n",
       "    <tr>\n",
       "      <th>0</th>\n",
       "      <td>1.0</td>\n",
       "      <td>0.0</td>\n",
       "      <td>1.0</td>\n",
       "      <td>0.0</td>\n",
       "      <td>6.0</td>\n",
       "      <td>0.0</td>\n",
       "      <td>2.0</td>\n",
       "      <td>0.344167</td>\n",
       "      <td>0.363625</td>\n",
       "      <td>0.805833</td>\n",
       "      <td>0.160446</td>\n",
       "      <td>985.0</td>\n",
       "    </tr>\n",
       "    <tr>\n",
       "      <th>1</th>\n",
       "      <td>1.0</td>\n",
       "      <td>0.0</td>\n",
       "      <td>1.0</td>\n",
       "      <td>0.0</td>\n",
       "      <td>0.0</td>\n",
       "      <td>0.0</td>\n",
       "      <td>2.0</td>\n",
       "      <td>0.363478</td>\n",
       "      <td>0.353739</td>\n",
       "      <td>0.696087</td>\n",
       "      <td>0.248539</td>\n",
       "      <td>801.0</td>\n",
       "    </tr>\n",
       "    <tr>\n",
       "      <th>2</th>\n",
       "      <td>1.0</td>\n",
       "      <td>0.0</td>\n",
       "      <td>1.0</td>\n",
       "      <td>0.0</td>\n",
       "      <td>1.0</td>\n",
       "      <td>1.0</td>\n",
       "      <td>1.0</td>\n",
       "      <td>0.196364</td>\n",
       "      <td>0.189405</td>\n",
       "      <td>0.437273</td>\n",
       "      <td>0.248309</td>\n",
       "      <td>1349.0</td>\n",
       "    </tr>\n",
       "    <tr>\n",
       "      <th>3</th>\n",
       "      <td>1.0</td>\n",
       "      <td>0.0</td>\n",
       "      <td>1.0</td>\n",
       "      <td>0.0</td>\n",
       "      <td>2.0</td>\n",
       "      <td>1.0</td>\n",
       "      <td>1.0</td>\n",
       "      <td>0.200000</td>\n",
       "      <td>0.212122</td>\n",
       "      <td>0.590435</td>\n",
       "      <td>0.160296</td>\n",
       "      <td>1562.0</td>\n",
       "    </tr>\n",
       "    <tr>\n",
       "      <th>4</th>\n",
       "      <td>1.0</td>\n",
       "      <td>0.0</td>\n",
       "      <td>1.0</td>\n",
       "      <td>0.0</td>\n",
       "      <td>3.0</td>\n",
       "      <td>1.0</td>\n",
       "      <td>1.0</td>\n",
       "      <td>0.226957</td>\n",
       "      <td>0.229270</td>\n",
       "      <td>0.436957</td>\n",
       "      <td>0.186900</td>\n",
       "      <td>1600.0</td>\n",
       "    </tr>\n",
       "  </tbody>\n",
       "</table>\n",
       "</div>"
      ],
      "text/plain": [
       "   season   yr  mnth  holiday  weekday  workingday  weathersit      temp  \\\n",
       "0     1.0  0.0   1.0      0.0      6.0         0.0         2.0  0.344167   \n",
       "1     1.0  0.0   1.0      0.0      0.0         0.0         2.0  0.363478   \n",
       "2     1.0  0.0   1.0      0.0      1.0         1.0         1.0  0.196364   \n",
       "3     1.0  0.0   1.0      0.0      2.0         1.0         1.0  0.200000   \n",
       "4     1.0  0.0   1.0      0.0      3.0         1.0         1.0  0.226957   \n",
       "\n",
       "      atemp       hum  windspeed     cnt  \n",
       "0  0.363625  0.805833   0.160446   985.0  \n",
       "1  0.353739  0.696087   0.248539   801.0  \n",
       "2  0.189405  0.437273   0.248309  1349.0  \n",
       "3  0.212122  0.590435   0.160296  1562.0  \n",
       "4  0.229270  0.436957   0.186900  1600.0  "
      ]
     },
     "execution_count": 3,
     "metadata": {},
     "output_type": "execute_result"
    }
   ],
   "source": [
    "from pyspark.sql.functions import col\n",
    "\n",
    "dataset = rawData.select(col('season').cast('float'),\n",
    "                         col('yr').cast('float'),\n",
    "                         col('mnth').cast('float'),\n",
    "                         col('holiday').cast('float'),\n",
    "                         col('weekday').cast('float'),\n",
    "                         col('workingday').cast('float'),\n",
    "                         col('weathersit').cast('float'),\n",
    "                         col('temp').cast('float'),\n",
    "                         col('atemp').cast('float'),\n",
    "                         col('hum').cast('float'),\n",
    "                         col('windspeed').cast('float'),\n",
    "                         col('cnt').cast('float'),\n",
    "                        )\n",
    "\n",
    "dataset.toPandas().head()"
   ]
  },
  {
   "cell_type": "markdown",
   "metadata": {},
   "source": [
    "### Aby pozbyć się nadmiarowych danych oraz takich które są bardzo moncno skorelowane ze sobą (tzn. można pominąć ich wpływ na model) wykorzystujemy metodę graficzną heatmap z biblioteki seaborn która zwizualizuje nam macierz korelacji"
   ]
  },
  {
   "cell_type": "code",
   "execution_count": 5,
   "metadata": {},
   "outputs": [
    {
     "data": {
      "image/png": "[encoded data removed]",
      "text/plain": [
       "<Figure size 504x504 with 2 Axes>"
      ]
     },
     "metadata": {},
     "output_type": "display_data"
    }
   ],
   "source": [
    "import matplotlib.pyplot as plt\n",
    "import seaborn as sns\n",
    "\n",
    "corrmat = dataset.toPandas().corr()\n",
    "\n",
    "plt.figure(figsize = (7,7))\n",
    "sns.set(font_scale =1.0)\n",
    "sns.heatmap(corrmat, vmax = .8, square = True , annot = True, fmt= '.2f', cmap = 'winter')\n",
    "plt.show()"
   ]
  },
  {
   "cell_type": "markdown",
   "metadata": {},
   "source": [
    "### możemy zaobserwować że takie zmienne jak temperatura i temperatura odczuwalna oraz sezon i miesiac są ze sobą mocno skorelowane więc jedną z każdej pary możemy pominąć"
   ]
  },
  {
   "cell_type": "markdown",
   "metadata": {},
   "source": [
    "### usuwamy także zmienną przewidywaną- czyli liczbę wypożyczonych rowerów danego dnia"
   ]
  },
  {
   "cell_type": "code",
   "execution_count": 7,
   "metadata": {},
   "outputs": [
    {
     "data": {
      "text/plain": [
       "['season',\n",
       " 'yr',\n",
       " 'mnth',\n",
       " 'holiday',\n",
       " 'weekday',\n",
       " 'workingday',\n",
       " 'weathersit',\n",
       " 'temp',\n",
       " 'atemp',\n",
       " 'hum',\n",
       " 'windspeed']"
      ]
     },
     "execution_count": 7,
     "metadata": {},
     "output_type": "execute_result"
    }
   ],
   "source": [
    "featureCols = dataset.columns.copy()\n",
    "featureCols.remove('cnt')\n",
    "\n",
    "featureCols"
   ]
  },
  {
   "cell_type": "code",
   "execution_count": 8,
   "metadata": {},
   "outputs": [
    {
     "data": {
      "text/plain": [
       "11"
      ]
     },
     "execution_count": 8,
     "metadata": {},
     "output_type": "execute_result"
    }
   ],
   "source": [
    "len(featureCols)"
   ]
  },
  {
   "cell_type": "markdown",
   "metadata": {},
   "source": [
    "### Przeprowadzamy proces wektoryzacji danych czyli przekształcenia danych z wiersza do jednego wektora w którym dane są w formacie kolumnowym"
   ]
  },
  {
   "cell_type": "code",
   "execution_count": 10,
   "metadata": {},
   "outputs": [],
   "source": [
    "from pyspark.ml.feature import VectorAssembler\n",
    "\n",
    "assembler = VectorAssembler(inputCols = featureCols,\n",
    "                           outputCol = 'features')"
   ]
  },
  {
   "cell_type": "markdown",
   "metadata": {},
   "source": [
    "#### w ostatniej kolumnie możemy zauważyć jak wyglądają dane w wektorze który jest odpowiednim formatem dla późniejszych operacji w modelu regresji"
   ]
  },
  {
   "cell_type": "code",
   "execution_count": 11,
   "metadata": {},
   "outputs": [
    {
     "data": {
      "text/html": [
       "<div>\n",
       "<style scoped>\n",
       "    .dataframe tbody tr th:only-of-type {\n",
       "        vertical-align: middle;\n",
       "    }\n",
       "\n",
       "    .dataframe tbody tr th {\n",
       "        vertical-align: top;\n",
       "    }\n",
       "\n",
       "    .dataframe thead th {\n",
       "        text-align: right;\n",
       "    }\n",
       "</style>\n",
       "<table border=\"1\" class=\"dataframe\">\n",
       "  <thead>\n",
       "    <tr style=\"text-align: right;\">\n",
       "      <th></th>\n",
       "      <th>season</th>\n",
       "      <th>yr</th>\n",
       "      <th>mnth</th>\n",
       "      <th>holiday</th>\n",
       "      <th>weekday</th>\n",
       "      <th>workingday</th>\n",
       "      <th>weathersit</th>\n",
       "      <th>temp</th>\n",
       "      <th>atemp</th>\n",
       "      <th>hum</th>\n",
       "      <th>windspeed</th>\n",
       "      <th>cnt</th>\n",
       "      <th>features</th>\n",
       "    </tr>\n",
       "  </thead>\n",
       "  <tbody>\n",
       "    <tr>\n",
       "      <th>0</th>\n",
       "      <td>1.0</td>\n",
       "      <td>0.0</td>\n",
       "      <td>1.0</td>\n",
       "      <td>0.0</td>\n",
       "      <td>6.0</td>\n",
       "      <td>0.0</td>\n",
       "      <td>2.0</td>\n",
       "      <td>0.344167</td>\n",
       "      <td>0.363625</td>\n",
       "      <td>0.805833</td>\n",
       "      <td>0.160446</td>\n",
       "      <td>985.0</td>\n",
       "      <td>[1.0, 0.0, 1.0, 0.0, 6.0, 0.0, 2.0, 0.34416699...</td>\n",
       "    </tr>\n",
       "    <tr>\n",
       "      <th>1</th>\n",
       "      <td>1.0</td>\n",
       "      <td>0.0</td>\n",
       "      <td>1.0</td>\n",
       "      <td>0.0</td>\n",
       "      <td>0.0</td>\n",
       "      <td>0.0</td>\n",
       "      <td>2.0</td>\n",
       "      <td>0.363478</td>\n",
       "      <td>0.353739</td>\n",
       "      <td>0.696087</td>\n",
       "      <td>0.248539</td>\n",
       "      <td>801.0</td>\n",
       "      <td>[1.0, 0.0, 1.0, 0.0, 0.0, 0.0, 2.0, 0.36347800...</td>\n",
       "    </tr>\n",
       "    <tr>\n",
       "      <th>2</th>\n",
       "      <td>1.0</td>\n",
       "      <td>0.0</td>\n",
       "      <td>1.0</td>\n",
       "      <td>0.0</td>\n",
       "      <td>1.0</td>\n",
       "      <td>1.0</td>\n",
       "      <td>1.0</td>\n",
       "      <td>0.196364</td>\n",
       "      <td>0.189405</td>\n",
       "      <td>0.437273</td>\n",
       "      <td>0.248309</td>\n",
       "      <td>1349.0</td>\n",
       "      <td>[1.0, 0.0, 1.0, 0.0, 1.0, 1.0, 1.0, 0.19636400...</td>\n",
       "    </tr>\n",
       "    <tr>\n",
       "      <th>3</th>\n",
       "      <td>1.0</td>\n",
       "      <td>0.0</td>\n",
       "      <td>1.0</td>\n",
       "      <td>0.0</td>\n",
       "      <td>2.0</td>\n",
       "      <td>1.0</td>\n",
       "      <td>1.0</td>\n",
       "      <td>0.200000</td>\n",
       "      <td>0.212122</td>\n",
       "      <td>0.590435</td>\n",
       "      <td>0.160296</td>\n",
       "      <td>1562.0</td>\n",
       "      <td>[1.0, 0.0, 1.0, 0.0, 2.0, 1.0, 1.0, 0.20000000...</td>\n",
       "    </tr>\n",
       "    <tr>\n",
       "      <th>4</th>\n",
       "      <td>1.0</td>\n",
       "      <td>0.0</td>\n",
       "      <td>1.0</td>\n",
       "      <td>0.0</td>\n",
       "      <td>3.0</td>\n",
       "      <td>1.0</td>\n",
       "      <td>1.0</td>\n",
       "      <td>0.226957</td>\n",
       "      <td>0.229270</td>\n",
       "      <td>0.436957</td>\n",
       "      <td>0.186900</td>\n",
       "      <td>1600.0</td>\n",
       "      <td>[1.0, 0.0, 1.0, 0.0, 3.0, 1.0, 1.0, 0.22695699...</td>\n",
       "    </tr>\n",
       "  </tbody>\n",
       "</table>\n",
       "</div>"
      ],
      "text/plain": [
       "   season   yr  mnth  holiday  weekday  workingday  weathersit      temp  \\\n",
       "0     1.0  0.0   1.0      0.0      6.0         0.0         2.0  0.344167   \n",
       "1     1.0  0.0   1.0      0.0      0.0         0.0         2.0  0.363478   \n",
       "2     1.0  0.0   1.0      0.0      1.0         1.0         1.0  0.196364   \n",
       "3     1.0  0.0   1.0      0.0      2.0         1.0         1.0  0.200000   \n",
       "4     1.0  0.0   1.0      0.0      3.0         1.0         1.0  0.226957   \n",
       "\n",
       "      atemp       hum  windspeed     cnt  \\\n",
       "0  0.363625  0.805833   0.160446   985.0   \n",
       "1  0.353739  0.696087   0.248539   801.0   \n",
       "2  0.189405  0.437273   0.248309  1349.0   \n",
       "3  0.212122  0.590435   0.160296  1562.0   \n",
       "4  0.229270  0.436957   0.186900  1600.0   \n",
       "\n",
       "                                            features  \n",
       "0  [1.0, 0.0, 1.0, 0.0, 6.0, 0.0, 2.0, 0.34416699...  \n",
       "1  [1.0, 0.0, 1.0, 0.0, 0.0, 0.0, 2.0, 0.36347800...  \n",
       "2  [1.0, 0.0, 1.0, 0.0, 1.0, 1.0, 1.0, 0.19636400...  \n",
       "3  [1.0, 0.0, 1.0, 0.0, 2.0, 1.0, 1.0, 0.20000000...  \n",
       "4  [1.0, 0.0, 1.0, 0.0, 3.0, 1.0, 1.0, 0.22695699...  "
      ]
     },
     "execution_count": 11,
     "metadata": {},
     "output_type": "execute_result"
    }
   ],
   "source": [
    "vectorDF = assembler.transform(dataset)\n",
    "vectorDF.toPandas().head()\n"
   ]
  },
  {
   "cell_type": "markdown",
   "metadata": {},
   "source": [
    "### Rozdzielamy dane na część terningową i testową"
   ]
  },
  {
   "cell_type": "code",
   "execution_count": 12,
   "metadata": {},
   "outputs": [],
   "source": [
    "(trainingData, testData) = vectorDF.randomSplit([0.8, 0.2])"
   ]
  },
  {
   "cell_type": "markdown",
   "metadata": {},
   "source": [
    "### inicjujemy model"
   ]
  },
  {
   "cell_type": "code",
   "execution_count": 13,
   "metadata": {},
   "outputs": [],
   "source": [
    "from pyspark.ml.regression import LinearRegression \n",
    "\n",
    "lr = LinearRegression(maxIter = 100,\n",
    "                     regParam = 1,\n",
    "                     elasticNetParam=0.8,\n",
    "                     labelCol = 'cnt',\n",
    "                     featuresCol ='features')"
   ]
  },
  {
   "cell_type": "code",
   "execution_count": 15,
   "metadata": {},
   "outputs": [],
   "source": [
    "model=lr.fit(trainingData)"
   ]
  },
  {
   "cell_type": "code",
   "execution_count": 16,
   "metadata": {},
   "outputs": [
    {
     "name": "stdout",
     "output_type": "stream",
     "text": [
      "training R^2 =  0.8022650813907135\n",
      "treningowe RMSE =  864.1109309610447\n"
     ]
    }
   ],
   "source": [
    "print('training R^2 = ', model.summary.r2)\n",
    "print('treningowe RMSE = ', model.summary.rootMeanSquaredError)"
   ]
  },
  {
   "cell_type": "markdown",
   "metadata": {},
   "source": [
    "### błąd RMSE na poziomie ~850 oznacza, że średnio wynik różni się o 850 wypożyczonych rowerów od wartości rzeczywistej"
   ]
  },
  {
   "cell_type": "code",
   "execution_count": 17,
   "metadata": {},
   "outputs": [
    {
     "data": {
      "text/html": [
       "<div>\n",
       "<style scoped>\n",
       "    .dataframe tbody tr th:only-of-type {\n",
       "        vertical-align: middle;\n",
       "    }\n",
       "\n",
       "    .dataframe tbody tr th {\n",
       "        vertical-align: top;\n",
       "    }\n",
       "\n",
       "    .dataframe thead th {\n",
       "        text-align: right;\n",
       "    }\n",
       "</style>\n",
       "<table border=\"1\" class=\"dataframe\">\n",
       "  <thead>\n",
       "    <tr style=\"text-align: right;\">\n",
       "      <th></th>\n",
       "      <th>season</th>\n",
       "      <th>yr</th>\n",
       "      <th>mnth</th>\n",
       "      <th>holiday</th>\n",
       "      <th>weekday</th>\n",
       "      <th>workingday</th>\n",
       "      <th>weathersit</th>\n",
       "      <th>temp</th>\n",
       "      <th>atemp</th>\n",
       "      <th>hum</th>\n",
       "      <th>windspeed</th>\n",
       "      <th>cnt</th>\n",
       "      <th>features</th>\n",
       "      <th>prediction</th>\n",
       "    </tr>\n",
       "  </thead>\n",
       "  <tbody>\n",
       "    <tr>\n",
       "      <th>0</th>\n",
       "      <td>1.0</td>\n",
       "      <td>0.0</td>\n",
       "      <td>1.0</td>\n",
       "      <td>0.0</td>\n",
       "      <td>0.0</td>\n",
       "      <td>0.0</td>\n",
       "      <td>1.0</td>\n",
       "      <td>0.231667</td>\n",
       "      <td>0.234217</td>\n",
       "      <td>0.483750</td>\n",
       "      <td>0.188433</td>\n",
       "      <td>1204.0</td>\n",
       "      <td>[1.0, 0.0, 1.0, 0.0, 0.0, 0.0, 1.0, 0.23166699...</td>\n",
       "      <td>1635.954181</td>\n",
       "    </tr>\n",
       "    <tr>\n",
       "      <th>1</th>\n",
       "      <td>1.0</td>\n",
       "      <td>0.0</td>\n",
       "      <td>1.0</td>\n",
       "      <td>0.0</td>\n",
       "      <td>1.0</td>\n",
       "      <td>1.0</td>\n",
       "      <td>2.0</td>\n",
       "      <td>0.180833</td>\n",
       "      <td>0.186250</td>\n",
       "      <td>0.603750</td>\n",
       "      <td>0.187192</td>\n",
       "      <td>1501.0</td>\n",
       "      <td>[1.0, 0.0, 1.0, 0.0, 1.0, 1.0, 2.0, 0.18083299...</td>\n",
       "      <td>844.568719</td>\n",
       "    </tr>\n",
       "    <tr>\n",
       "      <th>2</th>\n",
       "      <td>1.0</td>\n",
       "      <td>0.0</td>\n",
       "      <td>1.0</td>\n",
       "      <td>0.0</td>\n",
       "      <td>5.0</td>\n",
       "      <td>1.0</td>\n",
       "      <td>2.0</td>\n",
       "      <td>0.203478</td>\n",
       "      <td>0.223317</td>\n",
       "      <td>0.793043</td>\n",
       "      <td>0.123300</td>\n",
       "      <td>1167.0</td>\n",
       "      <td>[1.0, 0.0, 1.0, 0.0, 5.0, 1.0, 2.0, 0.20347799...</td>\n",
       "      <td>1260.856576</td>\n",
       "    </tr>\n",
       "    <tr>\n",
       "      <th>3</th>\n",
       "      <td>1.0</td>\n",
       "      <td>0.0</td>\n",
       "      <td>2.0</td>\n",
       "      <td>0.0</td>\n",
       "      <td>0.0</td>\n",
       "      <td>0.0</td>\n",
       "      <td>1.0</td>\n",
       "      <td>0.316522</td>\n",
       "      <td>0.324113</td>\n",
       "      <td>0.457391</td>\n",
       "      <td>0.260883</td>\n",
       "      <td>1589.0</td>\n",
       "      <td>[1.0, 0.0, 2.0, 0.0, 0.0, 0.0, 1.0, 0.31652200...</td>\n",
       "      <td>1932.446626</td>\n",
       "    </tr>\n",
       "    <tr>\n",
       "      <th>4</th>\n",
       "      <td>1.0</td>\n",
       "      <td>0.0</td>\n",
       "      <td>2.0</td>\n",
       "      <td>0.0</td>\n",
       "      <td>0.0</td>\n",
       "      <td>0.0</td>\n",
       "      <td>1.0</td>\n",
       "      <td>0.343478</td>\n",
       "      <td>0.351109</td>\n",
       "      <td>0.680000</td>\n",
       "      <td>0.125248</td>\n",
       "      <td>2402.0</td>\n",
       "      <td>[1.0, 0.0, 2.0, 0.0, 0.0, 0.0, 1.0, 0.34347799...</td>\n",
       "      <td>2215.410415</td>\n",
       "    </tr>\n",
       "  </tbody>\n",
       "</table>\n",
       "</div>"
      ],
      "text/plain": [
       "   season   yr  mnth  holiday  weekday  workingday  weathersit      temp  \\\n",
       "0     1.0  0.0   1.0      0.0      0.0         0.0         1.0  0.231667   \n",
       "1     1.0  0.0   1.0      0.0      1.0         1.0         2.0  0.180833   \n",
       "2     1.0  0.0   1.0      0.0      5.0         1.0         2.0  0.203478   \n",
       "3     1.0  0.0   2.0      0.0      0.0         0.0         1.0  0.316522   \n",
       "4     1.0  0.0   2.0      0.0      0.0         0.0         1.0  0.343478   \n",
       "\n",
       "      atemp       hum  windspeed     cnt  \\\n",
       "0  0.234217  0.483750   0.188433  1204.0   \n",
       "1  0.186250  0.603750   0.187192  1501.0   \n",
       "2  0.223317  0.793043   0.123300  1167.0   \n",
       "3  0.324113  0.457391   0.260883  1589.0   \n",
       "4  0.351109  0.680000   0.125248  2402.0   \n",
       "\n",
       "                                            features   prediction  \n",
       "0  [1.0, 0.0, 1.0, 0.0, 0.0, 0.0, 1.0, 0.23166699...  1635.954181  \n",
       "1  [1.0, 0.0, 1.0, 0.0, 1.0, 1.0, 2.0, 0.18083299...   844.568719  \n",
       "2  [1.0, 0.0, 1.0, 0.0, 5.0, 1.0, 2.0, 0.20347799...  1260.856576  \n",
       "3  [1.0, 0.0, 2.0, 0.0, 0.0, 0.0, 1.0, 0.31652200...  1932.446626  \n",
       "4  [1.0, 0.0, 2.0, 0.0, 0.0, 0.0, 1.0, 0.34347799...  2215.410415  "
      ]
     },
     "execution_count": 17,
     "metadata": {},
     "output_type": "execute_result"
    }
   ],
   "source": [
    "predictions = model.transform(testData)\n",
    "predictions.toPandas().head()"
   ]
  },
  {
   "cell_type": "markdown",
   "metadata": {},
   "source": [
    "### sprawdzmy teraz jak zachowuje się nasz model na danych testowych"
   ]
  },
  {
   "cell_type": "code",
   "execution_count": 21,
   "metadata": {},
   "outputs": [
    {
     "name": "stdout",
     "output_type": "stream",
     "text": [
      "wynik r2 na danych testowych: 0.783834 \n"
     ]
    }
   ],
   "source": [
    "from pyspark.ml.evaluation import RegressionEvaluator\n",
    "\n",
    "evaluator = RegressionEvaluator(\n",
    "        labelCol = 'cnt',\n",
    "        predictionCol = 'prediction',\n",
    "        metricName = 'r2')\n",
    "rsquare = evaluator.evaluate(predictions)\n",
    "print(\"wynik r2 na danych testowych: %g \" % rsquare)"
   ]
  },
  {
   "cell_type": "code",
   "execution_count": 23,
   "metadata": {},
   "outputs": [
    {
     "name": "stdout",
     "output_type": "stream",
     "text": [
      "wynik rmse na danych testowych: 879.123 \n"
     ]
    }
   ],
   "source": [
    "evaluator = RegressionEvaluator(\n",
    "        labelCol = 'cnt',\n",
    "        predictionCol = 'prediction',\n",
    "        metricName = 'rmse')\n",
    "rmse = evaluator.evaluate(predictions)\n",
    "print(\"wynik rmse na danych testowych: %g \" % rmse)"
   ]
  },
  {
   "cell_type": "markdown",
   "metadata": {},
   "source": [
    "### widzimy, że wyniki są niższe ale nadal satysfakcjonujące"
   ]
  },
  {
   "cell_type": "code",
   "execution_count": 24,
   "metadata": {},
   "outputs": [],
   "source": [
    "predictionsPandas = predictions.toPandas()"
   ]
  },
  {
   "cell_type": "code",
   "execution_count": 25,
   "metadata": {},
   "outputs": [
    {
     "data": {
      "image/png": "[encoded data removed]",
      "text/plain": [
       "<Figure size 1080x432 with 1 Axes>"
      ]
     },
     "metadata": {},
     "output_type": "display_data"
    }
   ],
   "source": [
    "plt.figure(figsize=(15,6))\n",
    "\n",
    "plt.plot(predictionsPandas['cnt'], label ='Actual')\n",
    "plt.plot(predictionsPandas['prediction'], label ='Predicted')\n",
    "\n",
    "plt.ylabel('liczba wypożyczonych rowerów')\n",
    "plt.legend()\n",
    "\n",
    "plt.show()"
   ]
  },
  {
   "cell_type": "markdown",
   "metadata": {},
   "source": [
    "### Widzimy, że nasz model jest dość dokładny"
   ]
  },
  {
   "cell_type": "markdown",
   "metadata": {},
   "source": [
    "## Rozpoczynamy procedurę PCA"
   ]
  },
  {
   "cell_type": "markdown",
   "metadata": {},
   "source": [
    "### zaczynamy od stworzenia modelu"
   ]
  },
  {
   "cell_type": "code",
   "execution_count": 26,
   "metadata": {},
   "outputs": [],
   "source": [
    "from pyspark.ml.feature import PCA\n",
    "\n",
    "pca = PCA(k=8,\n",
    "         inputCol = 'features',\n",
    "         outputCol='pcaFeatures'\n",
    "         )"
   ]
  },
  {
   "cell_type": "markdown",
   "metadata": {},
   "source": [
    "### inicjujemy model"
   ]
  },
  {
   "cell_type": "code",
   "execution_count": 29,
   "metadata": {},
   "outputs": [],
   "source": [
    "pcaTransformer=pca.fit(vectorDF)"
   ]
  },
  {
   "cell_type": "code",
   "execution_count": 30,
   "metadata": {},
   "outputs": [
    {
     "data": {
      "text/html": [
       "<div>\n",
       "<style scoped>\n",
       "    .dataframe tbody tr th:only-of-type {\n",
       "        vertical-align: middle;\n",
       "    }\n",
       "\n",
       "    .dataframe tbody tr th {\n",
       "        vertical-align: top;\n",
       "    }\n",
       "\n",
       "    .dataframe thead th {\n",
       "        text-align: right;\n",
       "    }\n",
       "</style>\n",
       "<table border=\"1\" class=\"dataframe\">\n",
       "  <thead>\n",
       "    <tr style=\"text-align: right;\">\n",
       "      <th></th>\n",
       "      <th>pcaFeatures</th>\n",
       "    </tr>\n",
       "  </thead>\n",
       "  <tbody>\n",
       "    <tr>\n",
       "      <th>0</th>\n",
       "      <td>[-1.2994341051211487, -6.000295788252948, 0.38...</td>\n",
       "    </tr>\n",
       "    <tr>\n",
       "      <th>1</th>\n",
       "      <td>[-1.2560740466051405, -0.0018090609273897756, ...</td>\n",
       "    </tr>\n",
       "    <tr>\n",
       "      <th>2</th>\n",
       "      <td>[-1.2498374389125777, -1.0026992468169051, 0.5...</td>\n",
       "    </tr>\n",
       "    <tr>\n",
       "      <th>3</th>\n",
       "      <td>[-1.2589193782130974, -2.001860480004334, 0.57...</td>\n",
       "    </tr>\n",
       "    <tr>\n",
       "      <th>4</th>\n",
       "      <td>[-1.264951594573432, -3.0022673722336357, 0.58...</td>\n",
       "    </tr>\n",
       "  </tbody>\n",
       "</table>\n",
       "</div>"
      ],
      "text/plain": [
       "                                         pcaFeatures\n",
       "0  [-1.2994341051211487, -6.000295788252948, 0.38...\n",
       "1  [-1.2560740466051405, -0.0018090609273897756, ...\n",
       "2  [-1.2498374389125777, -1.0026992468169051, 0.5...\n",
       "3  [-1.2589193782130974, -2.001860480004334, 0.57...\n",
       "4  [-1.264951594573432, -3.0022673722336357, 0.58..."
      ]
     },
     "execution_count": 30,
     "metadata": {},
     "output_type": "execute_result"
    }
   ],
   "source": [
    "pcaFeatureData = pcaTransformer.transform(vectorDF).select('pcaFeatures')\n",
    "pcaFeatureData.toPandas().head()"
   ]
  },
  {
   "cell_type": "code",
   "execution_count": null,
   "metadata": {},
   "outputs": [],
   "source": []
  }
 ],
 "metadata": {
  "kernelspec": {
   "display_name": "Python 3",
   "language": "python",
   "name": "python3"
  },
  "language_info": {
   "codemirror_mode": {
    "name": "ipython",
    "version": 3
   },
   "file_extension": ".py",
   "mimetype": "text/x-python",
   "name": "python",
   "nbconvert_exporter": "python",
   "pygments_lexer": "ipython3",
   "version": "3.6.5"
  }
 },
 "nbformat": 4,
 "nbformat_minor": 2
}
